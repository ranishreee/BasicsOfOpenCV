{
 "cells": [
  {
   "cell_type": "code",
   "execution_count": 1,
   "metadata": {},
   "outputs": [],
   "source": [
    "import cv2\n",
    "import numpy as np"
   ]
  },
  {
   "cell_type": "code",
   "execution_count": 2,
   "metadata": {},
   "outputs": [],
   "source": [
    "cap = cv2.VideoCapture(0)\n",
    "ret, frame = cap.read()\n",
    "\n",
    "#Loads the classifier\n",
    "face_cascade = cv2.CascadeClassifier('Computer-Vision-with-Python\\DATA\\haarcascades\\haarcascade_frontalface_default.xml')\n",
    "\n",
    "# Detect objects of different sizes in the input image. The detected objects are returned as a list of rectangles.\n",
    "rects = face_cascade.detectMultiScale(frame)\n",
    "\n",
    "\n",
    "(face_x,face_y,w,h) = tuple(rects[0])\n",
    "track_window = (face_x,face_y,w,h)\n",
    "\n",
    "roi = frame[face_y:face_y+h,face_x:face_x+w]  #roi - Region Of Interest\n",
    "\n",
    "\n",
    "# RGB components of an image are all correlated with the amount of light hitting the object.\n",
    "# Image descriptions in terms of those components make object discrimination difficult. \n",
    "# Describing in terms of hue/lightness/chroma or hue/lightness/saturation prove to be more relevant.\n",
    "hsv_roi = cv2.cvtColor(roi,cv2.COLOR_BGR2HSV)\n",
    "\n",
    "#Calculate Histogram \n",
    "#[hsv_roi] is thre source array whose Histogram is to be calculated\n",
    "#[0] is the channel\n",
    "#Mask is None\n",
    "#Number of bins = 180\n",
    "#Range is [0,180]\n",
    "\n",
    "roi_hist = cv2.calcHist([hsv_roi],[0],None,[180],[0,180])\n",
    "cv2.normalize(roi_hist,roi_hist,0,255,cv2.NORM_MINMAX)\n",
    "\n",
    "\n",
    "#cv2.TERM_CRITERIA_EPS - stop the algorithm iteration if specified accuracy, epsilon, is reached. (Here 10)\n",
    "#cv2.TERM_CRITERIA_MAX_ITER - stop the algorithm after the specified number of iterations, max_iter.(Here 1)\n",
    "#cv2.TERM_CRITERIA_EPS + cv.TERM_CRITERIA_MAX_ITER - stop the iteration when any of the above condition is met.\n",
    "\n",
    "term_crit = (cv2.TERM_CRITERIA_EPS | cv2.TERM_CRITERIA_COUNT, 10, 1)   \n",
    "\n",
    "\n",
    "while True :\n",
    "    ret, frame = cap.read()\n",
    "    if ret == True:\n",
    "        hsv = cv2.cvtColor(frame,cv2.COLOR_BGR2HSV)\n",
    "        dst = cv2.calcBackProject([hsv],[0],roi_hist,[0,180],1)          \n",
    "        # [hsv] is the source\n",
    "        # roi_hist is the model\n",
    "        \n",
    "        ret, track_window = cv2.meanShift(dst,track_window,term_crit)\n",
    "        \n",
    "        x,y,w,h = track_window\n",
    "        img2 = cv2.rectangle(frame,(x,y),(x+w,y+h),(0,0,255),5)\n",
    "        cv2.imshow('img',img2)\n",
    "        \n",
    "        k = cv2.waitKey(1) & 0xFF\n",
    "        if k == 27:                            #Press Esc to exit\n",
    "            break\n",
    "    else:\n",
    "            break\n",
    "            \n",
    "cv2.destroyAllWindows()\n",
    "cap.release()"
   ]
  },
  {
   "cell_type": "code",
   "execution_count": null,
   "metadata": {},
   "outputs": [],
   "source": []
  },
  {
   "cell_type": "code",
   "execution_count": null,
   "metadata": {},
   "outputs": [],
   "source": []
  }
 ],
 "metadata": {
  "kernelspec": {
   "display_name": "Python 3",
   "language": "python",
   "name": "python3"
  },
  "language_info": {
   "codemirror_mode": {
    "name": "ipython",
    "version": 3
   },
   "file_extension": ".py",
   "mimetype": "text/x-python",
   "name": "python",
   "nbconvert_exporter": "python",
   "pygments_lexer": "ipython3",
   "version": "3.6.6"
  }
 },
 "nbformat": 4,
 "nbformat_minor": 2
}
