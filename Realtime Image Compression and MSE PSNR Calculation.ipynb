{
 "cells": [
  {
   "cell_type": "code",
   "execution_count": 1,
   "metadata": {},
   "outputs": [],
   "source": [
    "import numpy \n",
    "import math\n",
    "import cv2"
   ]
  },
  {
   "cell_type": "code",
   "execution_count": 2,
   "metadata": {},
   "outputs": [],
   "source": [
    "cap = cv2.VideoCapture(0)\n",
    "\n",
    "while True:\n",
    "    ret,frame = cap.read()\n",
    "    cv2.imshow('frame',frame)\n",
    "    cv2.imwrite(\"original.jpg\", frame, [int(cv2.IMWRITE_JPEG_QUALITY), 85])\n",
    "    \n",
    "    if cv2.waitKey(1):\n",
    "        break\n",
    "        \n",
    "cap.release()\n",
    "cv2.destroyAllWindows()\n"
   ]
  },
  {
   "cell_type": "code",
   "execution_count": 3,
   "metadata": {},
   "outputs": [
    {
     "name": "stdout",
     "output_type": "stream",
     "text": [
      "1082.57935546875 22.557418746462112\n"
     ]
    }
   ],
   "source": [
    "original = cv2.imread(\"original.jpg\")\n",
    "cv2.imwrite(\"compressed.jpeg\",original, [int(cv2.IMWRITE_JPEG_QUALITY), 0])\n",
    "compressed = cv2.imread(\"compressed.jpeg\")\n",
    "\n",
    "def mse(imgA, imgB):\n",
    "    err = numpy.sum((imgA.astype(\"float\") - imgB.astype(\"float\")) ** 2)\n",
    "    err /= float(imgA.shape[0] * imgA.shape[1])\n",
    "    return err \n",
    "\n",
    "mse = mse(original, compressed)\n",
    "psnr = cv2.PSNR(original, compressed)\n",
    "print(mse,psnr)"
   ]
  },
  {
   "cell_type": "code",
   "execution_count": null,
   "metadata": {},
   "outputs": [],
   "source": []
  }
 ],
 "metadata": {
  "kernelspec": {
   "display_name": "Python 3",
   "language": "python",
   "name": "python3"
  },
  "language_info": {
   "codemirror_mode": {
    "name": "ipython",
    "version": 3
   },
   "file_extension": ".py",
   "mimetype": "text/x-python",
   "name": "python",
   "nbconvert_exporter": "python",
   "pygments_lexer": "ipython3",
   "version": "3.6.6"
  }
 },
 "nbformat": 4,
 "nbformat_minor": 2
}
